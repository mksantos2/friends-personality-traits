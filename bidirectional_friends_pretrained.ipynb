{
  "nbformat": 4,
  "nbformat_minor": 0,
  "metadata": {
    "language_info": {
      "name": "python",
      "mimetype": "text/x-python",
      "file_extension": ".py",
      "nbconvert_exporter": "python",
      "version": "3.6.4",
      "codemirror_mode": {
        "name": "ipython",
        "version": 3
      },
      "pygments_lexer": "ipython3"
    },
    "kernelspec": {
      "name": "python3",
      "language": "python",
      "display_name": "Python 3"
    },
    "colab": {
      "name": "bidirectional_friends.ipynb",
      "provenance": []
    }
  },
  "cells": [
    {
      "cell_type": "code",
      "metadata": {
        "_cell_guid": "280ce6a5-7c13-45cb-94b3-cae51047a14d",
        "_uuid": "d5b7d619525fb59e20c12db08260a60656842eeb",
        "id": "1mj0zsde0sAu",
        "colab_type": "code",
        "colab": {}
      },
      "source": [
        "# This Python 3 environment comes with many helpful analytics libraries installed\n",
        "# It is defined by the kaggle/python docker image: https://github.com/kaggle/docker-python\n",
        "# For example, here's several helpful packages to load in \n",
        "\n",
        "import numpy as np # linear algebra\n",
        "import pandas as pd # data processing, CSV file I/O (e.g. pd.read_csv)\n",
        "!pip install -q convokit\n",
        "# Input data files are available in the \"../input/\" directory.\n",
        "# For example, running this (by clicking run or pressing Shift+Enter) will list the files in the input directory\n",
        "\n"
      ],
      "execution_count": null,
      "outputs": []
    },
    {
      "cell_type": "code",
      "metadata": {
        "_cell_guid": "1cebb3ec-1385-44cf-ad88-359ed29bb18d",
        "_uuid": "c10e0358621d55f42c24b57927fef0dc1668ad95",
        "id": "13kQ9-xe0sA1",
        "colab_type": "code",
        "colab": {}
      },
      "source": [
        "import sys, os, re, csv, codecs, numpy as np, pandas as pd\n",
        "\n",
        "from keras.preprocessing.text import Tokenizer\n",
        "from keras.preprocessing.sequence import pad_sequences\n",
        "from keras.layers import Dense, Input, LSTM, Embedding, Dropout, Activation\n",
        "from keras.layers import Bidirectional, GlobalMaxPool1D\n",
        "from keras.models import Model\n",
        "from keras import initializers, regularizers, constraints, optimizers, layers"
      ],
      "execution_count": null,
      "outputs": []
    },
    {
      "cell_type": "markdown",
      "metadata": {
        "id": "Ijy1xkqV4t6G",
        "colab_type": "text"
      },
      "source": [
        "#DATASET"
      ]
    },
    {
      "cell_type": "markdown",
      "metadata": {
        "_cell_guid": "aa233d8b-c976-4f6c-aced-8458bda2db38",
        "_uuid": "d89df2602213749da26b83cd32c88c5b6a81bdf3",
        "id": "iIGzmmA70sA5",
        "colab_type": "text"
      },
      "source": [
        "to include glove file in your kernel, simple click 'input files' at the top of the notebook, and search 'glove' in the 'datasets' section."
      ]
    },
    {
      "cell_type": "code",
      "metadata": {
        "id": "Qij20dIAPxS9",
        "colab_type": "code",
        "colab": {
          "base_uri": "https://localhost:8080/",
          "height": 319
        },
        "outputId": "948cd17c-d52a-48b9-d011-a1527401b879"
      },
      "source": [
        "from convokit import Corpus, download\n",
        "corpus = Corpus(filename=download(\"friends-corpus\"))\n",
        "import tensorflow as tf \n",
        "corpus.print_summary_stats()\n",
        "data2 = corpus.get_utterances_dataframe()\n",
        "data1 = data2[['text', 'speaker']]\n",
        "data1 = data1.reset_index()\n",
        "data1 = data1.drop('id',axis=1)\n",
        "print(data1)"
      ],
      "execution_count": null,
      "outputs": [
        {
          "output_type": "stream",
          "text": [
            "Dataset already exists at /root/.convokit/downloads/friends-corpus\n",
            "Number of Speakers: 700\n",
            "Number of Utterances: 67373\n",
            "Number of Conversations: 3107\n",
            "                                                    text          speaker\n",
            "0      There's nothing to tell! He's just some guy I ...    Monica Geller\n",
            "1      C'mon, you're going out with the guy! There's ...   Joey Tribbiani\n",
            "2      All right Joey, be nice. So does he have a hum...    Chandler Bing\n",
            "3                               Wait, does he eat chalk?    Phoebe Buffay\n",
            "4                                                         TRANSCRIPT_NOTE\n",
            "...                                                  ...              ...\n",
            "67368                            Oh, it's gonna be okay.    Chandler Bing\n",
            "67369  Do you guys have to go to the new house right ...     Rachel Green\n",
            "67370                                  We got some time.    Monica Geller\n",
            "67371                   Okay, should we get some coffee?     Rachel Green\n",
            "67372                                       Sure. Where?    Chandler Bing\n",
            "\n",
            "[67373 rows x 2 columns]\n"
          ],
          "name": "stdout"
        }
      ]
    },
    {
      "cell_type": "code",
      "metadata": {
        "id": "rE16tgR5P5ic",
        "colab_type": "code",
        "colab": {
          "base_uri": "https://localhost:8080/",
          "height": 195
        },
        "outputId": "fff43a21-7ffb-4800-8c96-7cb4da8a5a58"
      },
      "source": [
        "#data1['list'] = data1[data1.columns[-1:]].values.tolist()\n",
        "new_df = data1[['text', 'speaker']].copy()\n",
        "new_df.head()\n",
        "#print(new_df.iloc[i][1])"
      ],
      "execution_count": null,
      "outputs": [
        {
          "output_type": "execute_result",
          "data": {
            "text/html": [
              "<div>\n",
              "<style scoped>\n",
              "    .dataframe tbody tr th:only-of-type {\n",
              "        vertical-align: middle;\n",
              "    }\n",
              "\n",
              "    .dataframe tbody tr th {\n",
              "        vertical-align: top;\n",
              "    }\n",
              "\n",
              "    .dataframe thead th {\n",
              "        text-align: right;\n",
              "    }\n",
              "</style>\n",
              "<table border=\"1\" class=\"dataframe\">\n",
              "  <thead>\n",
              "    <tr style=\"text-align: right;\">\n",
              "      <th></th>\n",
              "      <th>text</th>\n",
              "      <th>speaker</th>\n",
              "    </tr>\n",
              "  </thead>\n",
              "  <tbody>\n",
              "    <tr>\n",
              "      <th>0</th>\n",
              "      <td>There's nothing to tell! He's just some guy I ...</td>\n",
              "      <td>Monica Geller</td>\n",
              "    </tr>\n",
              "    <tr>\n",
              "      <th>1</th>\n",
              "      <td>C'mon, you're going out with the guy! There's ...</td>\n",
              "      <td>Joey Tribbiani</td>\n",
              "    </tr>\n",
              "    <tr>\n",
              "      <th>2</th>\n",
              "      <td>All right Joey, be nice. So does he have a hum...</td>\n",
              "      <td>Chandler Bing</td>\n",
              "    </tr>\n",
              "    <tr>\n",
              "      <th>3</th>\n",
              "      <td>Wait, does he eat chalk?</td>\n",
              "      <td>Phoebe Buffay</td>\n",
              "    </tr>\n",
              "    <tr>\n",
              "      <th>4</th>\n",
              "      <td></td>\n",
              "      <td>TRANSCRIPT_NOTE</td>\n",
              "    </tr>\n",
              "  </tbody>\n",
              "</table>\n",
              "</div>"
            ],
            "text/plain": [
              "                                                text          speaker\n",
              "0  There's nothing to tell! He's just some guy I ...    Monica Geller\n",
              "1  C'mon, you're going out with the guy! There's ...   Joey Tribbiani\n",
              "2  All right Joey, be nice. So does he have a hum...    Chandler Bing\n",
              "3                           Wait, does he eat chalk?    Phoebe Buffay\n",
              "4                                                     TRANSCRIPT_NOTE"
            ]
          },
          "metadata": {
            "tags": []
          },
          "execution_count": 4
        }
      ]
    },
    {
      "cell_type": "code",
      "metadata": {
        "id": "tDJ_-7jjP8hu",
        "colab_type": "code",
        "colab": {
          "base_uri": "https://localhost:8080/",
          "height": 195
        },
        "outputId": "2ce9ac69-96fb-49d1-d964-fb3ceee126f7"
      },
      "source": [
        "# 0 = chandler\n",
        "# 1 = Rachel\n",
        "# 2 = Ross\n",
        "# 3 = Monica\n",
        "# 4 = Phoebe\n",
        "# 5 = Joey\n",
        "\n",
        "\n",
        "for i in range(len(new_df)):\n",
        "    #item = (new_df.iloc[i][-1]).pop(0)\n",
        "    if(new_df.iloc[i][-1] == 'Chandler Bing'):\n",
        "        (new_df.loc[i][-1]) = np.array([1,0,0,0,0,0])\n",
        "    elif(new_df.iloc[i][-1] == 'Rachel Green'):\n",
        "        (new_df.loc[i][-1]) = np.array([0,1,0,0,0,0])\n",
        "    elif(new_df.iloc[i][-1] == 'Ross Geller'):\n",
        "        (new_df.loc[i][-1]) = np.array([0,0,1,0,0,0])\n",
        "    elif(new_df.iloc[i][-1] == 'Monica Geller'):\n",
        "        (new_df.loc[i][-1]) = np.array([0,0,0,1,0,0])\n",
        "    elif(new_df.iloc[i][-1] == 'Phoebe Buffay'):\n",
        "        (new_df.loc[i][-1]) = np.array([0,0,0,0,1,0])\n",
        "    elif(new_df.iloc[i][-1] == 'Joey Tribbiani'):\n",
        "        (new_df.loc[i][-1]) = np.array([0,0,0,0,0,1])\n",
        "    else:\n",
        "        (new_df.loc[i][-1]) = 'o'\n",
        "\n",
        "new_df.sample(frac=1) \n",
        "new_df.head()"
      ],
      "execution_count": null,
      "outputs": [
        {
          "output_type": "execute_result",
          "data": {
            "text/html": [
              "<div>\n",
              "<style scoped>\n",
              "    .dataframe tbody tr th:only-of-type {\n",
              "        vertical-align: middle;\n",
              "    }\n",
              "\n",
              "    .dataframe tbody tr th {\n",
              "        vertical-align: top;\n",
              "    }\n",
              "\n",
              "    .dataframe thead th {\n",
              "        text-align: right;\n",
              "    }\n",
              "</style>\n",
              "<table border=\"1\" class=\"dataframe\">\n",
              "  <thead>\n",
              "    <tr style=\"text-align: right;\">\n",
              "      <th></th>\n",
              "      <th>text</th>\n",
              "      <th>speaker</th>\n",
              "    </tr>\n",
              "  </thead>\n",
              "  <tbody>\n",
              "    <tr>\n",
              "      <th>0</th>\n",
              "      <td>There's nothing to tell! He's just some guy I ...</td>\n",
              "      <td>[0, 0, 0, 1, 0, 0]</td>\n",
              "    </tr>\n",
              "    <tr>\n",
              "      <th>1</th>\n",
              "      <td>C'mon, you're going out with the guy! There's ...</td>\n",
              "      <td>[0, 0, 0, 0, 0, 1]</td>\n",
              "    </tr>\n",
              "    <tr>\n",
              "      <th>2</th>\n",
              "      <td>All right Joey, be nice. So does he have a hum...</td>\n",
              "      <td>[1, 0, 0, 0, 0, 0]</td>\n",
              "    </tr>\n",
              "    <tr>\n",
              "      <th>3</th>\n",
              "      <td>Wait, does he eat chalk?</td>\n",
              "      <td>[0, 0, 0, 0, 1, 0]</td>\n",
              "    </tr>\n",
              "    <tr>\n",
              "      <th>4</th>\n",
              "      <td></td>\n",
              "      <td>o</td>\n",
              "    </tr>\n",
              "  </tbody>\n",
              "</table>\n",
              "</div>"
            ],
            "text/plain": [
              "                                                text             speaker\n",
              "0  There's nothing to tell! He's just some guy I ...  [0, 0, 0, 1, 0, 0]\n",
              "1  C'mon, you're going out with the guy! There's ...  [0, 0, 0, 0, 0, 1]\n",
              "2  All right Joey, be nice. So does he have a hum...  [1, 0, 0, 0, 0, 0]\n",
              "3                           Wait, does he eat chalk?  [0, 0, 0, 0, 1, 0]\n",
              "4                                                                      o"
            ]
          },
          "metadata": {
            "tags": []
          },
          "execution_count": 5
        }
      ]
    },
    {
      "cell_type": "code",
      "metadata": {
        "id": "lSXLn-CDQLHB",
        "colab_type": "code",
        "colab": {
          "base_uri": "https://localhost:8080/",
          "height": 70
        },
        "outputId": "6b26294d-9128-4f28-f2e1-adbbfb4a9adb"
      },
      "source": [
        "new_df = new_df[new_df['speaker'] != 'o']\n",
        "\n",
        "#new_df[\"list\"] = pd.to_numeric(new_df[\"list\"])"
      ],
      "execution_count": null,
      "outputs": [
        {
          "output_type": "stream",
          "text": [
            "/usr/local/lib/python3.6/dist-packages/pandas/core/ops/array_ops.py:57: FutureWarning: elementwise comparison failed; returning scalar instead, but in the future will perform elementwise comparison\n",
            "  result = libops.scalar_compare(x.ravel(), y, op)\n"
          ],
          "name": "stderr"
        }
      ]
    },
    {
      "cell_type": "code",
      "metadata": {
        "id": "D2WA975Lejds",
        "colab_type": "code",
        "colab": {}
      },
      "source": [
        ""
      ],
      "execution_count": null,
      "outputs": []
    },
    {
      "cell_type": "code",
      "metadata": {
        "_cell_guid": "98a7e24c-2655-455b-a401-057bc9f9420c",
        "_uuid": "07627d15bc2ab69b157c0cc519295ecfced0b0cb",
        "id": "wguD9Sd70sA6",
        "colab_type": "code",
        "colab": {}
      },
      "source": [
        "\n",
        "EMBEDDING_FILE='glove.6B.100d.txt'\n",
        "#TRAIN_DATA_FILE=f'friends-personality.csv'\n",
        "#TEST_DATA_FILE=f'{path}{comp}test.csv'"
      ],
      "execution_count": null,
      "outputs": []
    },
    {
      "cell_type": "code",
      "metadata": {
        "_cell_guid": "1e393890-2895-4bad-be6f-63cba10d670d",
        "_uuid": "3cc33b527dfb7b321081d3974698aac2e406c844",
        "id": "Hp8MFh1W0sA9",
        "colab_type": "code",
        "colab": {}
      },
      "source": [
        "#set parameters\n",
        "embed_size = 100 # how big is each word vector\n",
        "max_features = 5414 # how many unique words to use (i.e num rows in embedding vector)\n",
        "maxlen = 300 # max number of words in a comment to use"
      ],
      "execution_count": null,
      "outputs": []
    },
    {
      "cell_type": "code",
      "metadata": {
        "_cell_guid": "9609a325-b0cf-47ed-a42b-b3190ec4ea3a",
        "_uuid": "8f503d1324e752834034052cd0e0f88c9f1c6b2e",
        "id": "aocNyd_k0sBA",
        "colab_type": "code",
        "colab": {
          "base_uri": "https://localhost:8080/",
          "height": 252
        },
        "outputId": "b0770405-3b53-4da4-fca8-4d8ae3dcaaf7"
      },
      "source": [
        "#read datasets\n",
        "train = new_df\n",
        "print(train)"
      ],
      "execution_count": null,
      "outputs": [
        {
          "output_type": "stream",
          "text": [
            "                                                    text             speaker\n",
            "0      There's nothing to tell! He's just some guy I ...  [0, 0, 0, 1, 0, 0]\n",
            "1      C'mon, you're going out with the guy! There's ...  [0, 0, 0, 0, 0, 1]\n",
            "2      All right Joey, be nice. So does he have a hum...  [1, 0, 0, 0, 0, 0]\n",
            "3                               Wait, does he eat chalk?  [0, 0, 0, 0, 1, 0]\n",
            "5      Just, 'cause, I don't want her to go through w...  [0, 0, 0, 0, 1, 0]\n",
            "...                                                  ...                 ...\n",
            "67368                            Oh, it's gonna be okay.  [1, 0, 0, 0, 0, 0]\n",
            "67369  Do you guys have to go to the new house right ...  [0, 1, 0, 0, 0, 0]\n",
            "67370                                  We got some time.  [0, 0, 0, 1, 0, 0]\n",
            "67371                   Okay, should we get some coffee?  [0, 1, 0, 0, 0, 0]\n",
            "67372                                       Sure. Where?  [1, 0, 0, 0, 0, 0]\n",
            "\n",
            "[51312 rows x 2 columns]\n"
          ],
          "name": "stdout"
        }
      ]
    },
    {
      "cell_type": "markdown",
      "metadata": {
        "_cell_guid": "a0b38160-c998-4181-9470-93f375a90fd6",
        "_uuid": "5226bd171fd6c01f872ae4d3fd4c8b7216f79deb",
        "id": "LGB9Q91N0sBD",
        "colab_type": "text"
      },
      "source": [
        "#PRE PROCESSAMENTO "
      ]
    },
    {
      "cell_type": "code",
      "metadata": {
        "_cell_guid": "db423bbb-2d8e-4107-af27-ec39f14ec12d",
        "_uuid": "33b9825c18909629ed7a4c13e9ac28bb25296314",
        "id": "y2tsWrWI0sBD",
        "colab_type": "code",
        "colab": {}
      },
      "source": [
        "list_sentences_train = train[\"text\"].fillna(\"_na_\").values\n",
        "list_classes = [\"speaker\"]\n",
        "y = train[list_classes].values\n",
        "\n",
        "#list_sentences_test = test[\"text\"].fillna(\"_na_\").values"
      ],
      "execution_count": null,
      "outputs": []
    },
    {
      "cell_type": "code",
      "metadata": {
        "id": "BqWovTdeewNw",
        "colab_type": "code",
        "colab": {
          "base_uri": "https://localhost:8080/",
          "height": 34
        },
        "outputId": "90bc38c9-66e9-44ee-d494-69e77909b9ce"
      },
      "source": [
        "type(train[list_classes])\n"
      ],
      "execution_count": null,
      "outputs": [
        {
          "output_type": "execute_result",
          "data": {
            "text/plain": [
              "pandas.core.frame.DataFrame"
            ]
          },
          "metadata": {
            "tags": []
          },
          "execution_count": 37
        }
      ]
    },
    {
      "cell_type": "code",
      "metadata": {
        "id": "wukoofH4gbsL",
        "colab_type": "code",
        "colab": {
          "base_uri": "https://localhost:8080/",
          "height": 34
        },
        "outputId": "0470f078-c408-45a9-a37f-fff9f79368ff"
      },
      "source": [
        "type(new_df)\n"
      ],
      "execution_count": null,
      "outputs": [
        {
          "output_type": "execute_result",
          "data": {
            "text/plain": [
              "pandas.core.frame.DataFrame"
            ]
          },
          "metadata": {
            "tags": []
          },
          "execution_count": 38
        }
      ]
    },
    {
      "cell_type": "code",
      "metadata": {
        "_cell_guid": "41c281b0-6b1b-4359-acc2-49a6d75c8db5",
        "_uuid": "3703ae357b002647209fd50831b92e3960fa0275",
        "id": "8NgBZiUc0sBI",
        "colab_type": "code",
        "colab": {}
      },
      "source": [
        "tokenizer = Tokenizer(num_words=max_features)\n",
        "tokenizer.fit_on_texts(list(list_sentences_train))\n",
        "list_tokenized_train = tokenizer.texts_to_sequences(list_sentences_train)\n",
        "#list_tokenized_test = tokenizer.texts_to_sequences(list_sentences_test)\n",
        "X_t = pad_sequences(list_tokenized_train, maxlen=maxlen)\n",
        "#X_te = pad_sequences(list_tokenized_test, maxlen=maxlen)"
      ],
      "execution_count": null,
      "outputs": []
    },
    {
      "cell_type": "markdown",
      "metadata": {
        "id": "bwN4NORJ4ozk",
        "colab_type": "text"
      },
      "source": [
        "#WORD EMBBEDING"
      ]
    },
    {
      "cell_type": "markdown",
      "metadata": {
        "_cell_guid": "0493d4b8-528e-49ee-a399-53e72152a566",
        "_uuid": "f4262927f40e2c0cf1a6b9f7a606af4c3e190189",
        "id": "jd8FgBeF0sBM",
        "colab_type": "text"
      },
      "source": [
        "Read the glove word vectors (space delimited strings) into a dictionary from word->vector."
      ]
    },
    {
      "cell_type": "code",
      "metadata": {
        "_cell_guid": "4036a3aa-19db-4cb6-af48-0cc39795269f",
        "_uuid": "f3279a0acdeebda21c8c925bde1e92feb45fb5f9",
        "id": "mEwc0OQN0sBM",
        "colab_type": "code",
        "colab": {}
      },
      "source": [
        "def get_coefs(word,*arr): return word, np.asarray(arr, dtype='float32')\n",
        "embeddings_index = dict(get_coefs(*o.strip().split()) for o in open(EMBEDDING_FILE))"
      ],
      "execution_count": null,
      "outputs": []
    },
    {
      "cell_type": "markdown",
      "metadata": {
        "_cell_guid": "c6a7d6a1-16db-4820-ad5c-6cf022db7afe",
        "_uuid": "5b0815834451df48c71b847aa40ea19da33f05a2",
        "id": "Z1RYX89T0sBQ",
        "colab_type": "text"
      },
      "source": [
        "Use these vectors to create our embedding matrix, with random initialization for words that aren't in GloVe. We'll use the same mean and stdev of embeddings the GloVe has when generating the random init."
      ]
    },
    {
      "cell_type": "code",
      "metadata": {
        "_cell_guid": "2fb3d669-330b-4500-a3a0-c85416c6055d",
        "_uuid": "68591d5cd29251aebbad40e518a7c56052437997",
        "id": "iE94vbWa0sBQ",
        "colab_type": "code",
        "colab": {
          "base_uri": "https://localhost:8080/",
          "height": 87
        },
        "outputId": "391ca7df-9ca2-48f1-a04c-2c198647646a"
      },
      "source": [
        "all_embs = np.stack(embeddings_index.values())\n",
        "emb_mean,emb_std = all_embs.mean(), all_embs.std()\n",
        "emb_mean,emb_std"
      ],
      "execution_count": null,
      "outputs": [
        {
          "output_type": "stream",
          "text": [
            "/usr/local/lib/python3.6/dist-packages/IPython/core/interactiveshell.py:2822: FutureWarning: arrays to stack must be passed as a \"sequence\" type such as list or tuple. Support for non-sequence iterables such as generators is deprecated as of NumPy 1.16 and will raise an error in the future.\n",
            "  if self.run_code(code, result):\n"
          ],
          "name": "stderr"
        },
        {
          "output_type": "execute_result",
          "data": {
            "text/plain": [
              "(0.004451992, 0.4081574)"
            ]
          },
          "metadata": {
            "tags": []
          },
          "execution_count": 41
        }
      ]
    },
    {
      "cell_type": "code",
      "metadata": {
        "_cell_guid": "5038e1fe-6e4e-4c83-957b-e0811ee2a2d4",
        "_uuid": "b932fc6c799ec4b4398f828235aee8f37cb0f675",
        "id": "aDzAEqq60sBV",
        "colab_type": "code",
        "colab": {}
      },
      "source": [
        "word_index = tokenizer.word_index\n",
        "nb_words = min(max_features, len(word_index))\n",
        "embedding_matrix = np.random.normal(emb_mean, emb_std, (nb_words, embed_size))\n",
        "for word, i in word_index.items():\n",
        "    if i >= max_features: continue\n",
        "    embedding_vector = embeddings_index.get(word)\n",
        "    if embedding_vector is not None: embedding_matrix[i] = embedding_vector"
      ],
      "execution_count": null,
      "outputs": []
    },
    {
      "cell_type": "code",
      "metadata": {
        "id": "tVmRi3_lAVbw",
        "colab_type": "code",
        "colab": {
          "base_uri": "https://localhost:8080/",
          "height": 34
        },
        "outputId": "eb7e9627-945f-4456-8980-a60ce08042dc"
      },
      "source": [
        "print(embed_size, max_features)"
      ],
      "execution_count": null,
      "outputs": [
        {
          "output_type": "stream",
          "text": [
            "100 5414\n"
          ],
          "name": "stdout"
        }
      ]
    },
    {
      "cell_type": "markdown",
      "metadata": {
        "id": "tZ5Q586J4de6",
        "colab_type": "text"
      },
      "source": [
        "#TREINO E TESTE"
      ]
    },
    {
      "cell_type": "code",
      "metadata": {
        "_cell_guid": "a1be1eec-131b-48ad-bde1-523ad91164c1",
        "_uuid": "676bdae01aeb1d9fe96905d357bbf56697e26c2b",
        "id": "vpleY1Rz0sBb",
        "colab_type": "code",
        "colab": {}
      },
      "source": [
        "inp = Input(shape=(maxlen,))\n",
        "x = Embedding(max_features, embed_size, weights=[embedding_matrix])(inp)\n",
        "x = Bidirectional(LSTM(100, return_sequences=True, dropout=0.25, recurrent_dropout=0.1))(x)\n",
        "x = GlobalMaxPool1D()(x)\n",
        "x = Dense(100, activation=\"relu\")(x)\n",
        "x = Dropout(0.25)(x)\n",
        "x = Dense(6, activation=\"sigmoid\")(x)\n",
        "model = Model(inputs=inp, outputs=x)\n",
        "model.compile(loss='binary_crossentropy', optimizer='adam', metrics=['accuracy'])"
      ],
      "execution_count": null,
      "outputs": []
    },
    {
      "cell_type": "code",
      "metadata": {
        "id": "2Kc-JPDxGDrw",
        "colab_type": "code",
        "colab": {
          "base_uri": "https://localhost:8080/",
          "height": 252
        },
        "outputId": "97ff9076-0bc1-4074-b09f-3867450b1304"
      },
      "source": [
        "print(y)\n"
      ],
      "execution_count": null,
      "outputs": [
        {
          "output_type": "stream",
          "text": [
            "tf.Tensor(\n",
            "[[[0. 0. 0. 1. 0. 0.]]\n",
            "\n",
            " [[0. 0. 0. 0. 0. 1.]]\n",
            "\n",
            " [[1. 0. 0. 0. 0. 0.]]\n",
            "\n",
            " ...\n",
            "\n",
            " [[0. 0. 0. 1. 0. 0.]]\n",
            "\n",
            " [[0. 1. 0. 0. 0. 0.]]\n",
            "\n",
            " [[1. 0. 0. 0. 0. 0.]]], shape=(51312, 1, 6), dtype=float32)\n"
          ],
          "name": "stdout"
        }
      ]
    },
    {
      "cell_type": "code",
      "metadata": {
        "id": "5kYeJ8NKeN5e",
        "colab_type": "code",
        "colab": {
          "base_uri": "https://localhost:8080/",
          "height": 252
        },
        "outputId": "0a865a00-cf68-4696-af52-a9a6c46701c8"
      },
      "source": [
        " y=tf.convert_to_tensor(list(y), dtype=tf.float32)\n",
        " print(y)"
      ],
      "execution_count": null,
      "outputs": [
        {
          "output_type": "stream",
          "text": [
            "tf.Tensor(\n",
            "[[[0. 0. 0. 1. 0. 0.]]\n",
            "\n",
            " [[0. 0. 0. 0. 0. 1.]]\n",
            "\n",
            " [[1. 0. 0. 0. 0. 0.]]\n",
            "\n",
            " ...\n",
            "\n",
            " [[0. 0. 0. 1. 0. 0.]]\n",
            "\n",
            " [[0. 1. 0. 0. 0. 0.]]\n",
            "\n",
            " [[1. 0. 0. 0. 0. 0.]]], shape=(51312, 1, 6), dtype=float32)\n"
          ],
          "name": "stdout"
        }
      ]
    },
    {
      "cell_type": "code",
      "metadata": {
        "id": "FYj-9yQ3fBHd",
        "colab_type": "code",
        "colab": {
          "base_uri": "https://localhost:8080/",
          "height": 151
        },
        "outputId": "2e469c8c-9b8c-4d79-8c88-14b3bc052ad3"
      },
      "source": [
        "y = tf.reshape(y, (51312, 6))\n",
        "print(y)"
      ],
      "execution_count": null,
      "outputs": [
        {
          "output_type": "stream",
          "text": [
            "tf.Tensor(\n",
            "[[0. 0. 0. 1. 0. 0.]\n",
            " [0. 0. 0. 0. 0. 1.]\n",
            " [1. 0. 0. 0. 0. 0.]\n",
            " ...\n",
            " [0. 0. 0. 1. 0. 0.]\n",
            " [0. 1. 0. 0. 0. 0.]\n",
            " [1. 0. 0. 0. 0. 0.]], shape=(51312, 6), dtype=float32)\n"
          ],
          "name": "stdout"
        }
      ]
    },
    {
      "cell_type": "code",
      "metadata": {
        "_cell_guid": "05315534-5d92-4be9-b0bc-966929f77f43",
        "_uuid": "d4f92bbd6738d507b5851bdd4e9949bb72ea962f",
        "id": "MSSQfi7S0sBe",
        "colab_type": "code",
        "colab": {
          "base_uri": "https://localhost:8080/",
          "height": 118
        },
        "outputId": "dc82d96c-c981-404b-8ffc-794535881acb"
      },
      "source": [
        "model.fit(X_t, y, batch_size=32, epochs=3, validation_split=0.1);"
      ],
      "execution_count": null,
      "outputs": [
        {
          "output_type": "stream",
          "text": [
            "Epoch 1/3\n",
            "1444/1444 [==============================] - 1970s 1s/step - loss: 0.4521 - accuracy: 0.2090 - val_loss: 0.4467 - val_accuracy: 0.2473\n",
            "Epoch 2/3\n",
            "1444/1444 [==============================] - 2023s 1s/step - loss: 0.4371 - accuracy: 0.2680 - val_loss: 0.4410 - val_accuracy: 0.2603\n",
            "Epoch 3/3\n",
            "1444/1444 [==============================] - 2016s 1s/step - loss: 0.4243 - accuracy: 0.3071 - val_loss: 0.4407 - val_accuracy: 0.2703\n"
          ],
          "name": "stdout"
        }
      ]
    },
    {
      "cell_type": "markdown",
      "metadata": {
        "id": "-Mh95CCYiLv4",
        "colab_type": "text"
      },
      "source": [
        "#PARTE 2"
      ]
    },
    {
      "cell_type": "code",
      "metadata": {
        "id": "W96rPNhTjl48",
        "colab_type": "code",
        "colab": {}
      },
      "source": [
        "model.save_weights('./modelo/')\n"
      ],
      "execution_count": null,
      "outputs": []
    },
    {
      "cell_type": "code",
      "metadata": {
        "id": "PdQsnNTvkRZY",
        "colab_type": "code",
        "colab": {}
      },
      "source": [
        ""
      ],
      "execution_count": null,
      "outputs": []
    },
    {
      "cell_type": "code",
      "metadata": {
        "id": "BAdqDrAsEv7_",
        "colab_type": "code",
        "colab": {
          "base_uri": "https://localhost:8080/",
          "height": 252
        },
        "outputId": "682a1677-fb4b-4320-ea96-c83ccf9d121a"
      },
      "source": [
        "TRAIN_DATA_FILE=f'friends-personality.csv'\n",
        "train = pd.read_csv(TRAIN_DATA_FILE)\n",
        "train['zero'] = 0 \n",
        "print(train)"
      ],
      "execution_count": null,
      "outputs": [
        {
          "output_type": "stream",
          "text": [
            "     Unnamed: 0    scene_id  ... cNEU zero\n",
            "0             0  01_e01_c01  ...    1    0\n",
            "1             1  01_e01_c02  ...    1    0\n",
            "2             2  01_e01_c04  ...    1    0\n",
            "3             3  01_e01_c05  ...    0    0\n",
            "4             4  01_e01_c08  ...    1    0\n",
            "..          ...         ...  ...  ...  ...\n",
            "706         706  04_e24_c18  ...    0    0\n",
            "707         707  04_e24_c19  ...    0    0\n",
            "708         708  04_e24_c19  ...    0    0\n",
            "709         709  04_e24_c20  ...    1    0\n",
            "710         710  04_e24_c24  ...    1    0\n",
            "\n",
            "[711 rows x 10 columns]\n"
          ],
          "name": "stdout"
        }
      ]
    },
    {
      "cell_type": "code",
      "metadata": {
        "id": "0SGsoyqKiQKk",
        "colab_type": "code",
        "colab": {}
      },
      "source": [
        "list_sentences_train = train[\"text\"].fillna(\"_na_\").values\n",
        "\n",
        "list_classes = [\"cAGR\", \"cCON\", \"cEXT\", \"cOPN\", \"cNEU\", \"zero\"]\n",
        "y = train[list_classes].values\n",
        "tokenizer = Tokenizer(num_words=max_features)\n",
        "tokenizer.fit_on_texts(list(list_sentences_train))\n",
        "list_tokenized_train = tokenizer.texts_to_sequences(list_sentences_train)\n",
        "#list_tokenized_test = tokenizer.texts_to_sequences(list_sentences_test)\n",
        "X_t = pad_sequences(list_tokenized_train, maxlen=maxlen)\n",
        "#X_te = pad_sequences(list_tokenized_test, maxlen=maxlen)"
      ],
      "execution_count": null,
      "outputs": []
    },
    {
      "cell_type": "code",
      "metadata": {
        "id": "YthuLlWlRzsZ",
        "colab_type": "code",
        "colab": {
          "base_uri": "https://localhost:8080/",
          "height": 87
        },
        "outputId": "8ce2c809-d318-4ca6-bb96-33a51f634a10"
      },
      "source": [
        "def get_coefs(word,*arr): return word, np.asarray(arr, dtype='float32')\n",
        "embeddings_index = dict(get_coefs(*o.strip().split()) for o in open(EMBEDDING_FILE))\n",
        "\n",
        "all_embs = np.stack(embeddings_index.values())\n",
        "emb_mean,emb_std = all_embs.mean(), all_embs.std()\n",
        "emb_mean,emb_std"
      ],
      "execution_count": null,
      "outputs": [
        {
          "output_type": "stream",
          "text": [
            "/usr/local/lib/python3.6/dist-packages/IPython/core/interactiveshell.py:2822: FutureWarning: arrays to stack must be passed as a \"sequence\" type such as list or tuple. Support for non-sequence iterables such as generators is deprecated as of NumPy 1.16 and will raise an error in the future.\n",
            "  if self.run_code(code, result):\n"
          ],
          "name": "stderr"
        },
        {
          "output_type": "execute_result",
          "data": {
            "text/plain": [
              "(0.004451992, 0.4081574)"
            ]
          },
          "metadata": {
            "tags": []
          },
          "execution_count": 101
        }
      ]
    },
    {
      "cell_type": "code",
      "metadata": {
        "id": "WmxyGxAJR5_q",
        "colab_type": "code",
        "colab": {}
      },
      "source": [
        "word_index = tokenizer.word_index\n",
        "nb_words = min(max_features, len(word_index))\n",
        "embedding_matrix = np.random.normal(emb_mean, emb_std, (nb_words, embed_size))\n",
        "for word, i in word_index.items():\n",
        "    if i >= max_features: continue\n",
        "    embedding_vector = embeddings_index.get(word)\n",
        "    if embedding_vector is not None: embedding_matrix[i] = embedding_vector"
      ],
      "execution_count": null,
      "outputs": []
    },
    {
      "cell_type": "code",
      "metadata": {
        "id": "tVtEFgeYSNkk",
        "colab_type": "code",
        "colab": {
          "base_uri": "https://localhost:8080/",
          "height": 34
        },
        "outputId": "6e80bbe4-fc33-40ef-ea0d-0bd4de1ad0c0"
      },
      "source": [
        "print(embed_size, max_features)"
      ],
      "execution_count": null,
      "outputs": [
        {
          "output_type": "stream",
          "text": [
            "100 5414\n"
          ],
          "name": "stdout"
        }
      ]
    },
    {
      "cell_type": "code",
      "metadata": {
        "id": "qmnvbXypirO6",
        "colab_type": "code",
        "colab": {}
      },
      "source": [
        "\n",
        "\n",
        "inp = Input(shape=(maxlen,))\n",
        "x = Embedding(max_features, embed_size, weights=[embedding_matrix])(inp)\n",
        "x = Bidirectional(LSTM(100, return_sequences=True, dropout=0.25, recurrent_dropout=0.1))(x)\n",
        "x = GlobalMaxPool1D()(x)\n",
        "x = Dense(100, activation=\"relu\")(x)\n",
        "x = Dropout(0.25)(x)\n",
        "x = Dense(6, activation=\"sigmoid\")(x)\n",
        "model = Model(inputs=inp, outputs=x)\n",
        "model.load_weights('./modelo/')\n",
        "model.compile(loss='binary_crossentropy', optimizer='adam', metrics=['accuracy'])"
      ],
      "execution_count": null,
      "outputs": []
    },
    {
      "cell_type": "code",
      "metadata": {
        "id": "vBdYWF76I7fV",
        "colab_type": "code",
        "colab": {
          "base_uri": "https://localhost:8080/",
          "height": 151
        },
        "outputId": "961667e7-9f2e-4343-b40b-ac273f384b20"
      },
      "source": [
        "print(y)\n",
        "type(y)"
      ],
      "execution_count": null,
      "outputs": [
        {
          "output_type": "stream",
          "text": [
            "[[1 1 0 0 1 0]\n",
            " [1 0 1 1 1 0]\n",
            " [0 0 0 0 1 0]\n",
            " ...\n",
            " [1 0 1 1 0 0]\n",
            " [0 1 1 0 1 0]\n",
            " [1 0 0 1 1 0]]\n"
          ],
          "name": "stdout"
        },
        {
          "output_type": "execute_result",
          "data": {
            "text/plain": [
              "numpy.ndarray"
            ]
          },
          "metadata": {
            "tags": []
          },
          "execution_count": 105
        }
      ]
    },
    {
      "cell_type": "code",
      "metadata": {
        "id": "FXAALJlXleAo",
        "colab_type": "code",
        "colab": {
          "base_uri": "https://localhost:8080/",
          "height": 1000
        },
        "outputId": "48853dc3-cf11-4415-b1c9-f2b4e6164f8b"
      },
      "source": [
        "model.fit(X_t, y, batch_size=128, epochs=50, validation_split=0.1);\n",
        "\n"
      ],
      "execution_count": null,
      "outputs": [
        {
          "output_type": "stream",
          "text": [
            "Epoch 1/50\n",
            "5/5 [==============================] - 12s 2s/step - loss: 0.5583 - accuracy: 0.2285 - val_loss: 0.5686 - val_accuracy: 0.1389\n",
            "Epoch 2/50\n",
            "5/5 [==============================] - 12s 2s/step - loss: 0.5544 - accuracy: 0.2207 - val_loss: 0.5697 - val_accuracy: 0.1250\n",
            "Epoch 3/50\n",
            "5/5 [==============================] - 12s 2s/step - loss: 0.5540 - accuracy: 0.1659 - val_loss: 0.5695 - val_accuracy: 0.1250\n",
            "Epoch 4/50\n",
            "5/5 [==============================] - 12s 2s/step - loss: 0.5513 - accuracy: 0.2034 - val_loss: 0.5685 - val_accuracy: 0.1528\n",
            "Epoch 5/50\n",
            "5/5 [==============================] - 12s 2s/step - loss: 0.5519 - accuracy: 0.2473 - val_loss: 0.5681 - val_accuracy: 0.1944\n",
            "Epoch 6/50\n",
            "5/5 [==============================] - 12s 2s/step - loss: 0.5459 - accuracy: 0.2347 - val_loss: 0.5692 - val_accuracy: 0.1389\n",
            "Epoch 7/50\n",
            "5/5 [==============================] - 12s 2s/step - loss: 0.5485 - accuracy: 0.2520 - val_loss: 0.5693 - val_accuracy: 0.1806\n",
            "Epoch 8/50\n",
            "5/5 [==============================] - 12s 2s/step - loss: 0.5503 - accuracy: 0.2207 - val_loss: 0.5688 - val_accuracy: 0.1528\n",
            "Epoch 9/50\n",
            "5/5 [==============================] - 12s 2s/step - loss: 0.5432 - accuracy: 0.2363 - val_loss: 0.5681 - val_accuracy: 0.2083\n",
            "Epoch 10/50\n",
            "5/5 [==============================] - 12s 2s/step - loss: 0.5472 - accuracy: 0.2441 - val_loss: 0.5679 - val_accuracy: 0.1528\n",
            "Epoch 11/50\n",
            "5/5 [==============================] - 12s 2s/step - loss: 0.5445 - accuracy: 0.2551 - val_loss: 0.5688 - val_accuracy: 0.2222\n",
            "Epoch 12/50\n",
            "5/5 [==============================] - 12s 2s/step - loss: 0.5403 - accuracy: 0.2410 - val_loss: 0.5698 - val_accuracy: 0.2083\n",
            "Epoch 13/50\n",
            "5/5 [==============================] - 12s 2s/step - loss: 0.5416 - accuracy: 0.2895 - val_loss: 0.5700 - val_accuracy: 0.1528\n",
            "Epoch 14/50\n",
            "5/5 [==============================] - 12s 2s/step - loss: 0.5336 - accuracy: 0.2332 - val_loss: 0.5701 - val_accuracy: 0.2500\n",
            "Epoch 15/50\n",
            "5/5 [==============================] - 12s 2s/step - loss: 0.5366 - accuracy: 0.2676 - val_loss: 0.5704 - val_accuracy: 0.1667\n",
            "Epoch 16/50\n",
            "5/5 [==============================] - 12s 2s/step - loss: 0.5304 - accuracy: 0.2739 - val_loss: 0.5678 - val_accuracy: 0.2361\n",
            "Epoch 17/50\n",
            "5/5 [==============================] - 12s 2s/step - loss: 0.5313 - accuracy: 0.2269 - val_loss: 0.5688 - val_accuracy: 0.1528\n",
            "Epoch 18/50\n",
            "5/5 [==============================] - 12s 2s/step - loss: 0.5289 - accuracy: 0.2770 - val_loss: 0.5739 - val_accuracy: 0.2361\n",
            "Epoch 19/50\n",
            "5/5 [==============================] - 12s 2s/step - loss: 0.5231 - accuracy: 0.2598 - val_loss: 0.5717 - val_accuracy: 0.1944\n",
            "Epoch 20/50\n",
            "5/5 [==============================] - 12s 2s/step - loss: 0.5249 - accuracy: 0.2488 - val_loss: 0.5739 - val_accuracy: 0.2361\n",
            "Epoch 21/50\n",
            "5/5 [==============================] - 12s 2s/step - loss: 0.5206 - accuracy: 0.2973 - val_loss: 0.5714 - val_accuracy: 0.2361\n",
            "Epoch 22/50\n",
            "5/5 [==============================] - 12s 2s/step - loss: 0.5189 - accuracy: 0.2645 - val_loss: 0.5732 - val_accuracy: 0.1944\n",
            "Epoch 23/50\n",
            "5/5 [==============================] - 12s 2s/step - loss: 0.5184 - accuracy: 0.2864 - val_loss: 0.5714 - val_accuracy: 0.2222\n",
            "Epoch 24/50\n",
            "5/5 [==============================] - 12s 2s/step - loss: 0.5162 - accuracy: 0.2676 - val_loss: 0.5761 - val_accuracy: 0.1667\n",
            "Epoch 25/50\n",
            "5/5 [==============================] - 12s 2s/step - loss: 0.5031 - accuracy: 0.2520 - val_loss: 0.5914 - val_accuracy: 0.2083\n",
            "Epoch 26/50\n",
            "5/5 [==============================] - 12s 2s/step - loss: 0.5114 - accuracy: 0.2410 - val_loss: 0.5717 - val_accuracy: 0.1667\n",
            "Epoch 27/50\n",
            "5/5 [==============================] - 12s 2s/step - loss: 0.5063 - accuracy: 0.2582 - val_loss: 0.5769 - val_accuracy: 0.0833\n",
            "Epoch 28/50\n",
            "5/5 [==============================] - 12s 2s/step - loss: 0.5020 - accuracy: 0.2238 - val_loss: 0.5778 - val_accuracy: 0.1806\n",
            "Epoch 29/50\n",
            "5/5 [==============================] - 12s 2s/step - loss: 0.4993 - accuracy: 0.2942 - val_loss: 0.5737 - val_accuracy: 0.1389\n",
            "Epoch 30/50\n",
            "5/5 [==============================] - 12s 2s/step - loss: 0.4911 - accuracy: 0.2300 - val_loss: 0.5876 - val_accuracy: 0.1111\n",
            "Epoch 31/50\n",
            "5/5 [==============================] - 12s 2s/step - loss: 0.4888 - accuracy: 0.2394 - val_loss: 0.5769 - val_accuracy: 0.1111\n",
            "Epoch 32/50\n",
            "5/5 [==============================] - 15s 3s/step - loss: 0.4847 - accuracy: 0.2520 - val_loss: 0.6073 - val_accuracy: 0.1667\n",
            "Epoch 33/50\n",
            "5/5 [==============================] - 12s 2s/step - loss: 0.4817 - accuracy: 0.2504 - val_loss: 0.5843 - val_accuracy: 0.1111\n",
            "Epoch 34/50\n",
            "5/5 [==============================] - 12s 2s/step - loss: 0.4770 - accuracy: 0.2488 - val_loss: 0.5785 - val_accuracy: 0.1250\n",
            "Epoch 35/50\n",
            "5/5 [==============================] - 12s 2s/step - loss: 0.4725 - accuracy: 0.2848 - val_loss: 0.5870 - val_accuracy: 0.0972\n",
            "Epoch 36/50\n",
            "5/5 [==============================] - 12s 2s/step - loss: 0.4633 - accuracy: 0.2582 - val_loss: 0.6111 - val_accuracy: 0.1250\n",
            "Epoch 37/50\n",
            "5/5 [==============================] - 12s 2s/step - loss: 0.4546 - accuracy: 0.2504 - val_loss: 0.5866 - val_accuracy: 0.1111\n",
            "Epoch 38/50\n",
            "5/5 [==============================] - 12s 2s/step - loss: 0.4532 - accuracy: 0.2269 - val_loss: 0.5856 - val_accuracy: 0.0972\n",
            "Epoch 39/50\n",
            "5/5 [==============================] - 12s 2s/step - loss: 0.4479 - accuracy: 0.2457 - val_loss: 0.5934 - val_accuracy: 0.1389\n",
            "Epoch 40/50\n",
            "5/5 [==============================] - 12s 2s/step - loss: 0.4384 - accuracy: 0.2473 - val_loss: 0.6141 - val_accuracy: 0.1667\n",
            "Epoch 41/50\n",
            "5/5 [==============================] - 13s 3s/step - loss: 0.4431 - accuracy: 0.2692 - val_loss: 0.5970 - val_accuracy: 0.1389\n",
            "Epoch 42/50\n",
            "5/5 [==============================] - 12s 2s/step - loss: 0.4335 - accuracy: 0.2723 - val_loss: 0.6020 - val_accuracy: 0.0972\n",
            "Epoch 43/50\n",
            "5/5 [==============================] - 13s 3s/step - loss: 0.4272 - accuracy: 0.2441 - val_loss: 0.6021 - val_accuracy: 0.0833\n",
            "Epoch 44/50\n",
            "5/5 [==============================] - 12s 2s/step - loss: 0.4138 - accuracy: 0.2723 - val_loss: 0.6064 - val_accuracy: 0.1111\n",
            "Epoch 45/50\n",
            "5/5 [==============================] - 12s 2s/step - loss: 0.4093 - accuracy: 0.2801 - val_loss: 0.6175 - val_accuracy: 0.1250\n",
            "Epoch 46/50\n",
            "5/5 [==============================] - 12s 2s/step - loss: 0.4143 - accuracy: 0.2473 - val_loss: 0.6270 - val_accuracy: 0.1389\n",
            "Epoch 47/50\n",
            "5/5 [==============================] - 12s 2s/step - loss: 0.3964 - accuracy: 0.2723 - val_loss: 0.6191 - val_accuracy: 0.0833\n",
            "Epoch 48/50\n",
            "5/5 [==============================] - 12s 2s/step - loss: 0.3997 - accuracy: 0.2707 - val_loss: 0.6449 - val_accuracy: 0.1389\n",
            "Epoch 49/50\n",
            "5/5 [==============================] - 12s 2s/step - loss: 0.3933 - accuracy: 0.2833 - val_loss: 0.6342 - val_accuracy: 0.1806\n",
            "Epoch 50/50\n",
            "5/5 [==============================] - 12s 2s/step - loss: 0.3926 - accuracy: 0.2911 - val_loss: 0.6018 - val_accuracy: 0.1667\n"
          ],
          "name": "stdout"
        }
      ]
    },
    {
      "cell_type": "code",
      "metadata": {
        "id": "2OimAzNvBVh9",
        "colab_type": "code",
        "colab": {}
      },
      "source": [
        ""
      ],
      "execution_count": null,
      "outputs": []
    }
  ]
}
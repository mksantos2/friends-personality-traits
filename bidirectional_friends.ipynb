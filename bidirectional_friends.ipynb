{
  "nbformat": 4,
  "nbformat_minor": 0,
  "metadata": {
    "language_info": {
      "name": "python",
      "mimetype": "text/x-python",
      "file_extension": ".py",
      "nbconvert_exporter": "python",
      "version": "3.6.4",
      "codemirror_mode": {
        "name": "ipython",
        "version": 3
      },
      "pygments_lexer": "ipython3"
    },
    "kernelspec": {
      "name": "python3",
      "language": "python",
      "display_name": "Python 3"
    },
    "colab": {
      "name": "bidirectional_friends.ipynb",
      "provenance": []
    }
  },
  "cells": [
    {
      "cell_type": "code",
      "metadata": {
        "_cell_guid": "280ce6a5-7c13-45cb-94b3-cae51047a14d",
        "_uuid": "d5b7d619525fb59e20c12db08260a60656842eeb",
        "id": "1mj0zsde0sAu",
        "colab_type": "code",
        "colab": {}
      },
      "source": [
        "# This Python 3 environment comes with many helpful analytics libraries installed\n",
        "# It is defined by the kaggle/python docker image: https://github.com/kaggle/docker-python\n",
        "# For example, here's several helpful packages to load in \n",
        "\n",
        "import numpy as np # linear algebra\n",
        "import pandas as pd # data processing, CSV file I/O (e.g. pd.read_csv)\n",
        "\n",
        "# Input data files are available in the \"../input/\" directory.\n",
        "# For example, running this (by clicking run or pressing Shift+Enter) will list the files in the input directory\n",
        "\n"
      ],
      "execution_count": 1,
      "outputs": []
    },
    {
      "cell_type": "code",
      "metadata": {
        "_cell_guid": "1cebb3ec-1385-44cf-ad88-359ed29bb18d",
        "_uuid": "c10e0358621d55f42c24b57927fef0dc1668ad95",
        "id": "13kQ9-xe0sA1",
        "colab_type": "code",
        "colab": {
          "base_uri": "https://localhost:8080/",
          "height": 34
        },
        "outputId": "4722f783-0725-4103-f5b2-c721f5ac289d"
      },
      "source": [
        "import sys, os, re, csv, codecs, numpy as np, pandas as pd\n",
        "\n",
        "from keras.preprocessing.text import Tokenizer\n",
        "from keras.preprocessing.sequence import pad_sequences\n",
        "from keras.layers import Dense, Input, LSTM, Embedding, Dropout, Activation\n",
        "from keras.layers import Bidirectional, GlobalMaxPool1D\n",
        "from keras.models import Model\n",
        "from keras import initializers, regularizers, constraints, optimizers, layers"
      ],
      "execution_count": 2,
      "outputs": [
        {
          "output_type": "stream",
          "text": [
            "Using TensorFlow backend.\n"
          ],
          "name": "stderr"
        }
      ]
    },
    {
      "cell_type": "markdown",
      "metadata": {
        "id": "Ijy1xkqV4t6G",
        "colab_type": "text"
      },
      "source": [
        "#DATASET"
      ]
    },
    {
      "cell_type": "markdown",
      "metadata": {
        "_cell_guid": "aa233d8b-c976-4f6c-aced-8458bda2db38",
        "_uuid": "d89df2602213749da26b83cd32c88c5b6a81bdf3",
        "id": "iIGzmmA70sA5",
        "colab_type": "text"
      },
      "source": [
        "to include glove file in your kernel, simple click 'input files' at the top of the notebook, and search 'glove' in the 'datasets' section."
      ]
    },
    {
      "cell_type": "code",
      "metadata": {
        "_cell_guid": "98a7e24c-2655-455b-a401-057bc9f9420c",
        "_uuid": "07627d15bc2ab69b157c0cc519295ecfced0b0cb",
        "id": "wguD9Sd70sA6",
        "colab_type": "code",
        "colab": {}
      },
      "source": [
        "\n",
        "EMBEDDING_FILE='glove.6B.100d.txt'\n",
        "TRAIN_DATA_FILE=f'friends-personality.csv'\n",
        "#TEST_DATA_FILE=f'{path}{comp}test.csv'"
      ],
      "execution_count": 3,
      "outputs": []
    },
    {
      "cell_type": "code",
      "metadata": {
        "_cell_guid": "1e393890-2895-4bad-be6f-63cba10d670d",
        "_uuid": "3cc33b527dfb7b321081d3974698aac2e406c844",
        "id": "Hp8MFh1W0sA9",
        "colab_type": "code",
        "colab": {}
      },
      "source": [
        "#set parameters\n",
        "embed_size = 100 # how big is each word vector\n",
        "max_features = 5414 # how many unique words to use (i.e num rows in embedding vector)\n",
        "maxlen = 300 # max number of words in a comment to use"
      ],
      "execution_count": 4,
      "outputs": []
    },
    {
      "cell_type": "code",
      "metadata": {
        "_cell_guid": "9609a325-b0cf-47ed-a42b-b3190ec4ea3a",
        "_uuid": "8f503d1324e752834034052cd0e0f88c9f1c6b2e",
        "id": "aocNyd_k0sBA",
        "colab_type": "code",
        "colab": {
          "base_uri": "https://localhost:8080/",
          "height": 252
        },
        "outputId": "ac745ab6-c0e6-45eb-ea83-1949f6ec1d52"
      },
      "source": [
        "#read datasets\n",
        "train = pd.read_csv(TRAIN_DATA_FILE)\n",
        "print(train)"
      ],
      "execution_count": 5,
      "outputs": [
        {
          "output_type": "stream",
          "text": [
            "     Unnamed: 0    scene_id  ... cOPN cNEU\n",
            "0             0  01_e01_c01  ...    0    1\n",
            "1             1  01_e01_c02  ...    1    1\n",
            "2             2  01_e01_c04  ...    0    1\n",
            "3             3  01_e01_c05  ...    1    0\n",
            "4             4  01_e01_c08  ...    1    1\n",
            "..          ...         ...  ...  ...  ...\n",
            "706         706  04_e24_c18  ...    0    0\n",
            "707         707  04_e24_c19  ...    1    0\n",
            "708         708  04_e24_c19  ...    1    0\n",
            "709         709  04_e24_c20  ...    0    1\n",
            "710         710  04_e24_c24  ...    1    1\n",
            "\n",
            "[711 rows x 9 columns]\n"
          ],
          "name": "stdout"
        }
      ]
    },
    {
      "cell_type": "markdown",
      "metadata": {
        "_cell_guid": "a0b38160-c998-4181-9470-93f375a90fd6",
        "_uuid": "5226bd171fd6c01f872ae4d3fd4c8b7216f79deb",
        "id": "LGB9Q91N0sBD",
        "colab_type": "text"
      },
      "source": [
        "#PRE PROCESSAMENTO "
      ]
    },
    {
      "cell_type": "code",
      "metadata": {
        "_cell_guid": "db423bbb-2d8e-4107-af27-ec39f14ec12d",
        "_uuid": "33b9825c18909629ed7a4c13e9ac28bb25296314",
        "id": "y2tsWrWI0sBD",
        "colab_type": "code",
        "colab": {}
      },
      "source": [
        "list_sentences_train = train[\"text\"].fillna(\"_na_\").values\n",
        "list_classes = [\"cAGR\", \"cCON\", \"cEXT\", \"cOPN\", \"cNEU\"]\n",
        "y = train[list_classes].values\n",
        "\n",
        "#list_sentences_test = test[\"text\"].fillna(\"_na_\").values"
      ],
      "execution_count": 6,
      "outputs": []
    },
    {
      "cell_type": "code",
      "metadata": {
        "_cell_guid": "41c281b0-6b1b-4359-acc2-49a6d75c8db5",
        "_uuid": "3703ae357b002647209fd50831b92e3960fa0275",
        "id": "8NgBZiUc0sBI",
        "colab_type": "code",
        "colab": {}
      },
      "source": [
        "tokenizer = Tokenizer(num_words=max_features)\n",
        "tokenizer.fit_on_texts(list(list_sentences_train))\n",
        "list_tokenized_train = tokenizer.texts_to_sequences(list_sentences_train)\n",
        "#list_tokenized_test = tokenizer.texts_to_sequences(list_sentences_test)\n",
        "X_t = pad_sequences(list_tokenized_train, maxlen=maxlen)\n",
        "#X_te = pad_sequences(list_tokenized_test, maxlen=maxlen)"
      ],
      "execution_count": 7,
      "outputs": []
    },
    {
      "cell_type": "markdown",
      "metadata": {
        "id": "bwN4NORJ4ozk",
        "colab_type": "text"
      },
      "source": [
        "#WORD EMBBEDING"
      ]
    },
    {
      "cell_type": "markdown",
      "metadata": {
        "_cell_guid": "0493d4b8-528e-49ee-a399-53e72152a566",
        "_uuid": "f4262927f40e2c0cf1a6b9f7a606af4c3e190189",
        "id": "jd8FgBeF0sBM",
        "colab_type": "text"
      },
      "source": [
        "Read the glove word vectors (space delimited strings) into a dictionary from word->vector."
      ]
    },
    {
      "cell_type": "code",
      "metadata": {
        "_cell_guid": "4036a3aa-19db-4cb6-af48-0cc39795269f",
        "_uuid": "f3279a0acdeebda21c8c925bde1e92feb45fb5f9",
        "id": "mEwc0OQN0sBM",
        "colab_type": "code",
        "colab": {}
      },
      "source": [
        "def get_coefs(word,*arr): return word, np.asarray(arr, dtype='float32')\n",
        "embeddings_index = dict(get_coefs(*o.strip().split()) for o in open(EMBEDDING_FILE))"
      ],
      "execution_count": 8,
      "outputs": []
    },
    {
      "cell_type": "markdown",
      "metadata": {
        "_cell_guid": "c6a7d6a1-16db-4820-ad5c-6cf022db7afe",
        "_uuid": "5b0815834451df48c71b847aa40ea19da33f05a2",
        "id": "Z1RYX89T0sBQ",
        "colab_type": "text"
      },
      "source": [
        "Use these vectors to create our embedding matrix, with random initialization for words that aren't in GloVe. We'll use the same mean and stdev of embeddings the GloVe has when generating the random init."
      ]
    },
    {
      "cell_type": "code",
      "metadata": {
        "_cell_guid": "2fb3d669-330b-4500-a3a0-c85416c6055d",
        "_uuid": "68591d5cd29251aebbad40e518a7c56052437997",
        "id": "iE94vbWa0sBQ",
        "colab_type": "code",
        "colab": {
          "base_uri": "https://localhost:8080/",
          "height": 87
        },
        "outputId": "e3a83463-019b-497c-cd4f-1947d7e6458f"
      },
      "source": [
        "all_embs = np.stack(embeddings_index.values())\n",
        "emb_mean,emb_std = all_embs.mean(), all_embs.std()\n",
        "emb_mean,emb_std"
      ],
      "execution_count": 9,
      "outputs": [
        {
          "output_type": "stream",
          "text": [
            "/usr/local/lib/python3.6/dist-packages/IPython/core/interactiveshell.py:2822: FutureWarning: arrays to stack must be passed as a \"sequence\" type such as list or tuple. Support for non-sequence iterables such as generators is deprecated as of NumPy 1.16 and will raise an error in the future.\n",
            "  if self.run_code(code, result):\n"
          ],
          "name": "stderr"
        },
        {
          "output_type": "execute_result",
          "data": {
            "text/plain": [
              "(0.004451992, 0.4081574)"
            ]
          },
          "metadata": {
            "tags": []
          },
          "execution_count": 9
        }
      ]
    },
    {
      "cell_type": "code",
      "metadata": {
        "_cell_guid": "5038e1fe-6e4e-4c83-957b-e0811ee2a2d4",
        "_uuid": "b932fc6c799ec4b4398f828235aee8f37cb0f675",
        "id": "aDzAEqq60sBV",
        "colab_type": "code",
        "colab": {}
      },
      "source": [
        "word_index = tokenizer.word_index\n",
        "nb_words = min(max_features, len(word_index))\n",
        "embedding_matrix = np.random.normal(emb_mean, emb_std, (nb_words, embed_size))\n",
        "for word, i in word_index.items():\n",
        "    if i >= max_features: continue\n",
        "    embedding_vector = embeddings_index.get(word)\n",
        "    if embedding_vector is not None: embedding_matrix[i] = embedding_vector"
      ],
      "execution_count": 10,
      "outputs": []
    },
    {
      "cell_type": "code",
      "metadata": {
        "id": "tVmRi3_lAVbw",
        "colab_type": "code",
        "colab": {
          "base_uri": "https://localhost:8080/",
          "height": 34
        },
        "outputId": "649b72ef-1e02-45d6-a9c9-2a48d59c36a1"
      },
      "source": [
        "print(embed_size, max_features)"
      ],
      "execution_count": 11,
      "outputs": [
        {
          "output_type": "stream",
          "text": [
            "100 5414\n"
          ],
          "name": "stdout"
        }
      ]
    },
    {
      "cell_type": "markdown",
      "metadata": {
        "id": "tZ5Q586J4de6",
        "colab_type": "text"
      },
      "source": [
        "#TREINO E TESTE"
      ]
    },
    {
      "cell_type": "code",
      "metadata": {
        "_cell_guid": "a1be1eec-131b-48ad-bde1-523ad91164c1",
        "_uuid": "676bdae01aeb1d9fe96905d357bbf56697e26c2b",
        "id": "vpleY1Rz0sBb",
        "colab_type": "code",
        "colab": {}
      },
      "source": [
        "inp = Input(shape=(maxlen,))\n",
        "x = Embedding(max_features, embed_size, weights=[embedding_matrix])(inp)\n",
        "x = Bidirectional(LSTM(100, return_sequences=True, dropout=0.25, recurrent_dropout=0.1))(x)\n",
        "x = GlobalMaxPool1D()(x)\n",
        "x = Dense(100, activation=\"relu\")(x)\n",
        "x = Dropout(0.25)(x)\n",
        "x = Dense(5, activation=\"sigmoid\")(x)\n",
        "model = Model(inputs=inp, outputs=x)\n",
        "model.compile(loss='binary_crossentropy', optimizer='adam', metrics=['accuracy'])"
      ],
      "execution_count": 12,
      "outputs": []
    },
    {
      "cell_type": "code",
      "metadata": {
        "id": "u1IGMBB8DFKt",
        "colab_type": "code",
        "colab": {
          "base_uri": "https://localhost:8080/",
          "height": 151
        },
        "outputId": "c9dbf82b-a875-4ac4-9f22-d7a080f4442f"
      },
      "source": [
        "print(y.shape)\n",
        "print(y)"
      ],
      "execution_count": 13,
      "outputs": [
        {
          "output_type": "stream",
          "text": [
            "(711, 5)\n",
            "[[1 1 0 0 1]\n",
            " [1 0 1 1 1]\n",
            " [0 0 0 0 1]\n",
            " ...\n",
            " [1 0 1 1 0]\n",
            " [0 1 1 0 1]\n",
            " [1 0 0 1 1]]\n"
          ],
          "name": "stdout"
        }
      ]
    },
    {
      "cell_type": "code",
      "metadata": {
        "_cell_guid": "05315534-5d92-4be9-b0bc-966929f77f43",
        "_uuid": "d4f92bbd6738d507b5851bdd4e9949bb72ea962f",
        "id": "MSSQfi7S0sBe",
        "colab_type": "code",
        "colab": {
          "base_uri": "https://localhost:8080/",
          "height": 423
        },
        "outputId": "166fe9c6-9817-49cf-e10f-525e54807ab1"
      },
      "source": [
        "model.fit(X_t, y, batch_size=32, epochs=10, validation_split=0.1);"
      ],
      "execution_count": 14,
      "outputs": [
        {
          "output_type": "stream",
          "text": [
            "/usr/local/lib/python3.6/dist-packages/tensorflow/python/framework/indexed_slices.py:434: UserWarning: Converting sparse IndexedSlices to a dense Tensor of unknown shape. This may consume a large amount of memory.\n",
            "  \"Converting sparse IndexedSlices to a dense Tensor of unknown shape. \"\n"
          ],
          "name": "stderr"
        },
        {
          "output_type": "stream",
          "text": [
            "Train on 639 samples, validate on 72 samples\n",
            "Epoch 1/10\n",
            "639/639 [==============================] - 13s 21ms/step - loss: 0.6914 - accuracy: 0.5421 - val_loss: 0.6906 - val_accuracy: 0.5667\n",
            "Epoch 2/10\n",
            "639/639 [==============================] - 12s 19ms/step - loss: 0.6823 - accuracy: 0.5606 - val_loss: 0.6872 - val_accuracy: 0.5417\n",
            "Epoch 3/10\n",
            "639/639 [==============================] - 12s 19ms/step - loss: 0.6810 - accuracy: 0.5599 - val_loss: 0.6857 - val_accuracy: 0.5472\n",
            "Epoch 4/10\n",
            "639/639 [==============================] - 12s 19ms/step - loss: 0.6814 - accuracy: 0.5577 - val_loss: 0.6885 - val_accuracy: 0.5722\n",
            "Epoch 5/10\n",
            "639/639 [==============================] - 12s 19ms/step - loss: 0.6793 - accuracy: 0.5606 - val_loss: 0.6822 - val_accuracy: 0.5722\n",
            "Epoch 6/10\n",
            "639/639 [==============================] - 12s 19ms/step - loss: 0.6753 - accuracy: 0.5696 - val_loss: 0.6923 - val_accuracy: 0.5361\n",
            "Epoch 7/10\n",
            "639/639 [==============================] - 12s 19ms/step - loss: 0.6746 - accuracy: 0.5696 - val_loss: 0.6854 - val_accuracy: 0.5556\n",
            "Epoch 8/10\n",
            "639/639 [==============================] - 12s 19ms/step - loss: 0.6758 - accuracy: 0.5762 - val_loss: 0.6812 - val_accuracy: 0.5944\n",
            "Epoch 9/10\n",
            "639/639 [==============================] - 12s 19ms/step - loss: 0.6736 - accuracy: 0.5712 - val_loss: 0.6918 - val_accuracy: 0.5583\n",
            "Epoch 10/10\n",
            "639/639 [==============================] - 12s 19ms/step - loss: 0.6716 - accuracy: 0.5775 - val_loss: 0.6853 - val_accuracy: 0.5500\n"
          ],
          "name": "stdout"
        }
      ]
    },
    {
      "cell_type": "code",
      "metadata": {
        "id": "BAdqDrAsEv7_",
        "colab_type": "code",
        "colab": {}
      },
      "source": [
        ""
      ],
      "execution_count": 14,
      "outputs": []
    }
  ]
}